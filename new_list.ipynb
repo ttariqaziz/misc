{
  "nbformat": 4,
  "nbformat_minor": 0,
  "metadata": {
    "colab": {
      "provenance": []
    },
    "kernelspec": {
      "name": "python3",
      "display_name": "Python 3"
    },
    "language_info": {
      "name": "python"
    }
  },
  "cells": [
    {
      "cell_type": "code",
      "execution_count": 1,
      "metadata": {
        "colab": {
          "base_uri": "https://localhost:8080/"
        },
        "id": "BRWEMIwLO40o",
        "outputId": "65a7b7f3-61ed-4b1b-bc7b-7fca4ac6a04c"
      },
      "outputs": [
        {
          "output_type": "stream",
          "name": "stdout",
          "text": [
            "Enter the number please: 5\n",
            "7\n",
            "99\n",
            "58\n",
            "2\n",
            "1\n",
            "[7, 99, 58, 2, 1]\n",
            "None\n",
            "[7, 58, 99]\n",
            "[0.5, 1.0, 3.5, 29.0, 49.5]\n",
            "[1, 2, 7, 58, 99, [...]]\n"
          ]
        }
      ],
      "source": [
        "list1 = []\n",
        "list2=[]\n",
        "n = (int(input(\"Enter the number please: \")))   \n",
        "for i in range(0,n):\n",
        "  numbers = int(input())\n",
        "  list1.append(numbers)\n",
        "print(list1)\n",
        "print(list1.sort())\n",
        "print(list1[-3:])\n",
        "#list2.append(list1/2)\n",
        "\n",
        "#li = [38, 57, 76, 95, 114, 161.5]\n",
        "#num = 2\n",
        "list2 = [a/2 for a in list1]\n",
        "\n",
        "print(list2)\n",
        "\n",
        "list1.append(list1)\n",
        "print(list1)\n"
      ]
    },
    {
      "cell_type": "code",
      "source": [],
      "metadata": {
        "id": "WXcrKjAPO7b9"
      },
      "execution_count": null,
      "outputs": []
    }
  ]
}