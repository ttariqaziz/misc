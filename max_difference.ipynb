{
  "nbformat": 4,
  "nbformat_minor": 0,
  "metadata": {
    "colab": {
      "provenance": []
    },
    "kernelspec": {
      "name": "python3",
      "display_name": "Python 3"
    },
    "language_info": {
      "name": "python"
    }
  },
  "cells": [
    {
      "cell_type": "code",
      "execution_count": 2,
      "metadata": {
        "colab": {
          "base_uri": "https://localhost:8080/"
        },
        "id": "BRWEMIwLO40o",
        "outputId": "e1671f76-cd70-4c91-e2f5-cbaaf46c1517"
      },
      "outputs": [
        {
          "output_type": "stream",
          "name": "stdout",
          "text": [
            "Max difference is 17\n"
          ]
        }
      ],
      "source": [
        "arr1 = [1, 9, 2, -7, 10, 4, 3]\n",
        "def max_diff(arr, n):\n",
        "    diff = [0] * (n - 1)\n",
        "    for i in range (0, n-1):\n",
        "        diff[i] = arr[i+1] - arr[i]\n",
        "          \n",
        "    # Now find the maximum sum \n",
        "    # subarray in diff array    \n",
        "    max_diff = diff[0]\n",
        "    for i in range(1, n-1):\n",
        "        if (diff[i-1] > 0):\n",
        "            diff[i] += diff[i-1]\n",
        "      \n",
        "        if (max_diff < diff[i]):\n",
        "            max_diff = diff[i]\n",
        "    return max_diff\n",
        "  \n",
        "size = len(arr1)\n",
        "print (\"Max difference is\", max_diff(arr1, size))"
      ]
    },
    {
      "cell_type": "code",
      "source": [],
      "metadata": {
        "id": "WXcrKjAPO7b9"
      },
      "execution_count": null,
      "outputs": []
    }
  ]
}